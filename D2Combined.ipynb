{
  "nbformat": 4,
  "nbformat_minor": 0,
  "metadata": {
    "colab": {
      "provenance": []
    },
    "kernelspec": {
      "name": "python3",
      "display_name": "Python 3"
    },
    "language_info": {
      "name": "python"
    }
  },
  "cells": [
    {
      "cell_type": "code",
      "execution_count": null,
      "metadata": {
        "id": "kxQCwSRoTgrS",
        "colab": {
          "base_uri": "https://localhost:8080/"
        },
        "outputId": "b5b36c35-922e-467d-cce2-2bd2061d0153"
      },
      "outputs": [
        {
          "output_type": "stream",
          "name": "stderr",
          "text": [
            "[nltk_data] Downloading package stopwords to /root/nltk_data...\n",
            "[nltk_data]   Package stopwords is already up-to-date!\n",
            "[nltk_data] Downloading package stopwords to /root/nltk_data...\n",
            "[nltk_data]   Package stopwords is already up-to-date!\n"
          ]
        },
        {
          "output_type": "stream",
          "name": "stdout",
          "text": [
            "Your data sample:\n",
            "                                            Sentence Sentiment  sentiment_num  \\\n",
            "0  The GeoSolutions technology will leverage Bene...  positive              2   \n",
            "1  $ESI on lows, down $1.50 to $2.50 BK a real po...  negative              0   \n",
            "2  For the last quarter of 2010 , Componenta 's n...  positive              2   \n",
            "3  According to the Finnish-Russian Chamber of Co...   neutral              1   \n",
            "4  The Swedish buyout firm has sold its remaining...   neutral              1   \n",
            "\n",
            "                                              tokens  \n",
            "0  [geosolution, technology, leverage, benefon, g...  \n",
            "1                  [esi, low, bk, real, possibility]  \n",
            "2  [last, quarter, componenta, net, sale, double,...  \n",
            "3  [accord, finnishrussian, chamber, commerce, ma...  \n",
            "4  [swedish, buyout, firm, sell, remain, percent,...   \n",
            "\n"
          ]
        },
        {
          "output_type": "stream",
          "name": "stderr",
          "text": [
            "/usr/local/lib/python3.11/dist-packages/huggingface_hub/utils/_auth.py:94: UserWarning: \n",
            "The secret `HF_TOKEN` does not exist in your Colab secrets.\n",
            "To authenticate with the Hugging Face Hub, create a token in your settings tab (https://huggingface.co/settings/tokens), set it as secret in your Google Colab and restart your session.\n",
            "You will be able to reuse this secret in all of your notebooks.\n",
            "Please note that authentication is recommended but still optional to access public models or datasets.\n",
            "  warnings.warn(\n"
          ]
        },
        {
          "output_type": "stream",
          "name": "stdout",
          "text": [
            "\n",
            "Dataset features: {'tweet': Value(dtype='string', id=None), 'sentiment': ClassLabel(names=['neutral', 'bullish', 'bearish'], id=None), 'url': Value(dtype='string', id=None)}\n",
            "\n",
            "First sample: {'tweet': '$BYND - JPMorgan reels in expectations on Beyond Meat https://t.co/bd0xbFGjkT', 'sentiment': 2, 'url': 'https://huggingface.co/datasets/zeroshot/twitter-financial-news-sentiment'}\n"
          ]
        },
        {
          "output_type": "stream",
          "name": "stderr",
          "text": [
            "Processing TimKoornstra HF: 100%|██████████| 38091/38091 [03:03<00:00, 207.35it/s]\n"
          ]
        },
        {
          "output_type": "stream",
          "name": "stdout",
          "text": [
            "\n",
            "TimKoornstra sample:\n",
            "                                            sentence  sentiment_num  \\\n",
            "0  $BYND - JPMorgan reels in expectations on Beyo...              0   \n",
            "1  $CCL $RCL - Nomura points to bookings weakness...              0   \n",
            "2  $CX - Cemex cut at Credit Suisse, J.P. Morgan ...              0   \n",
            "3  $ESS: BTIG Research cuts to Neutral https://t....              0   \n",
            "4  $FNKO - Funko slides after Piper Jaffray PT cu...              0   \n",
            "\n",
            "                                              tokens  \n",
            "0  [bynd, jpmorgan, reel, expectation, beyond, meat]  \n",
            "1  [ccl, rcl, nomura, point, booking, weakness, c...  \n",
            "2  [cx, cemex, cut, credit, suisse, jp, morgan, w...  \n",
            "3                [ess, btig, research, cut, neutral]  \n",
            "4      [fnko, funko, slide, piper, jaffray, pt, cut]   \n",
            "\n",
            "Loaded 38079 records from TimKoornstra dataset\n"
          ]
        }
      ],
      "source": [
        "\n",
        "\n",
        "!pip install datasets --quiet\n",
        "!pip install --force-reinstall nltk --quiet\n",
        "\n",
        "import json\n",
        "import re\n",
        "import pandas as pd\n",
        "import nltk\n",
        "from nltk.corpus import stopwords\n",
        "nltk.download('stopwords')\n",
        "import spacy\n",
        "from string import punctuation\n",
        "from datasets import load_dataset\n",
        "from tqdm import tqdm\n",
        "# LOADING VOCAB.JSON\n",
        "with open(\"vocab.json\", \"r\") as f:\n",
        "    vocab = json.load(f)\n",
        "word2idx = vocab[\"word2idx\"]\n",
        "\n",
        "\n",
        "\n",
        "\n",
        "# Downloading  resources\n",
        "nltk.download(\"stopwords\")\n",
        "stop_words = set(stopwords.words(\"english\"))\n",
        "nlp = spacy.load(\"en_core_web_sm\", disable=[\"parser\", \"ner\"])\n",
        "\n",
        "def preprocess_text(text):\n",
        "    text = str(text).lower()\n",
        "    text = re.sub(r'https?://\\S+', '', text)\n",
        "    text = re.sub(r'[^a-z\\s]', '', text)\n",
        "    doc = nlp(text)\n",
        "    return [\n",
        "        token.lemma_ for token in doc\n",
        "        if token.is_alpha and token.text not in stop_words and token.text not in punctuation\n",
        "    ]\n",
        "\n",
        "with open(\"preprocessed_data.json\", \"r\") as f:\n",
        "    your_records = json.load(f)\n",
        "df_own = pd.DataFrame(your_records)\n",
        "\n",
        "# Mapping  word-sentiments → numeric (0=neg,1=neu,2=pos)\n",
        "word2num = {\"negative\": 0, \"neutral\": 1, \"positive\": 2}\n",
        "df_own[\"sentiment_num\"] = df_own[\"Sentiment\"].map(word2num)\n",
        "\n",
        "print(\"Your data sample:\")\n",
        "print(df_own[[\"Sentence\",\"Sentiment\",\"sentiment_num\",\"tokens\"]].head(), \"\\n\")\n",
        "\n",
        "# ─── 2. Loading  TimKoornstra labeled dataset ────────────────────\n",
        "hf = load_dataset(\"TimKoornstra/financial-tweets-sentiment\", split=\"train\")\n",
        "\n",
        "print(\"\\nDataset features:\", hf.features)\n",
        "print(\"\\nFirst sample:\", hf[0])\n",
        "\n",
        "text_column = \"tweet\"\n",
        "sentiment_column = \"sentiment\"\n",
        "\n",
        "hf_label_map = {2: 0, 0: 1, 1: 2}\n",
        "\n",
        "records = []\n",
        "for item in tqdm(hf, desc=\"Processing TimKoornstra HF\"):\n",
        "    try:\n",
        "        txt = item[text_column]\n",
        "        lbl = item[sentiment_column]\n",
        "        toks = preprocess_text(txt)\n",
        "        if toks:\n",
        "            records.append({\n",
        "                \"sentence\": txt,\n",
        "                \"sentiment_num\": hf_label_map[lbl],\n",
        "                \"tokens\": toks\n",
        "            })\n",
        "    except KeyError as e:\n",
        "        print(f\"Skipping item due to missing key: {e}\")\n",
        "        continue\n",
        "\n",
        "df_tim = pd.DataFrame(records)\n",
        "print(\"\\nTimKoornstra sample:\")\n",
        "print(df_tim.head(), \"\\n\")\n",
        "print(f\"Loaded {len(df_tim)} records from TimKoornstra dataset\")"
      ]
    },
    {
      "cell_type": "code",
      "source": [
        "from google.colab import files\n",
        "\n",
        "# ─── Merging  the Two DataFrames ───────────────────────────────────\n",
        "combined_df = pd.concat(\n",
        "    [df_own[[\"tokens\", \"sentiment_num\"]], df_tim[[\"tokens\", \"sentiment_num\"]]],\n",
        "    ignore_index=True\n",
        ")\n",
        "\n",
        "print(f\"✅ Combined dataset size: {len(combined_df)} rows\")\n",
        "print(combined_df.head())\n",
        "combined_df.to_json(\"combined_dataset.json\", orient=\"records\", indent=2)\n",
        "combined_df.to_csv(\"combined_dataset.csv\", index=False)\n"
      ],
      "metadata": {
        "colab": {
          "base_uri": "https://localhost:8080/",
          "height": 139
        },
        "id": "OwyOQRc5k9vK",
        "outputId": "41f2c86d-6d78-4b55-c6ae-d93d231fc7d2"
      },
      "execution_count": null,
      "outputs": [
        {
          "output_type": "stream",
          "name": "stdout",
          "text": [
            "✅ Combined dataset size: 43921 rows\n",
            "                                              tokens  sentiment_num\n",
            "0  [geosolution, technology, leverage, benefon, g...              2\n",
            "1                  [esi, low, bk, real, possibility]              0\n",
            "2  [last, quarter, componenta, net, sale, double,...              2\n",
            "3  [accord, finnishrussian, chamber, commerce, ma...              1\n",
            "4  [swedish, buyout, firm, sell, remain, percent,...              1\n"
          ]
        },
        {
          "output_type": "display_data",
          "data": {
            "text/plain": [
              "<IPython.core.display.Javascript object>"
            ],
            "application/javascript": [
              "\n",
              "    async function download(id, filename, size) {\n",
              "      if (!google.colab.kernel.accessAllowed) {\n",
              "        return;\n",
              "      }\n",
              "      const div = document.createElement('div');\n",
              "      const label = document.createElement('label');\n",
              "      label.textContent = `Downloading \"${filename}\": `;\n",
              "      div.appendChild(label);\n",
              "      const progress = document.createElement('progress');\n",
              "      progress.max = size;\n",
              "      div.appendChild(progress);\n",
              "      document.body.appendChild(div);\n",
              "\n",
              "      const buffers = [];\n",
              "      let downloaded = 0;\n",
              "\n",
              "      const channel = await google.colab.kernel.comms.open(id);\n",
              "      // Send a message to notify the kernel that we're ready.\n",
              "      channel.send({})\n",
              "\n",
              "      for await (const message of channel.messages) {\n",
              "        // Send a message to notify the kernel that we're ready.\n",
              "        channel.send({})\n",
              "        if (message.buffers) {\n",
              "          for (const buffer of message.buffers) {\n",
              "            buffers.push(buffer);\n",
              "            downloaded += buffer.byteLength;\n",
              "            progress.value = downloaded;\n",
              "          }\n",
              "        }\n",
              "      }\n",
              "      const blob = new Blob(buffers, {type: 'application/binary'});\n",
              "      const a = document.createElement('a');\n",
              "      a.href = window.URL.createObjectURL(blob);\n",
              "      a.download = filename;\n",
              "      div.appendChild(a);\n",
              "      a.click();\n",
              "      div.remove();\n",
              "    }\n",
              "  "
            ]
          },
          "metadata": {}
        },
        {
          "output_type": "display_data",
          "data": {
            "text/plain": [
              "<IPython.core.display.Javascript object>"
            ],
            "application/javascript": [
              "download(\"download_56caf4a3-0d2d-4e31-b369-3c7dee1a5f92\", \"combined_dataset.json\", 8848416)"
            ]
          },
          "metadata": {}
        }
      ]
    },
    {
      "cell_type": "code",
      "source": [
        "import matplotlib.pyplot as plt\n",
        "import seaborn as sns\n",
        "from collections import Counter\n",
        "import numpy as np\n",
        "\n",
        "pd.set_option('display.max_colwidth', 120)\n",
        "\n",
        "# ─── 1. Label distribution ──────────────────────────────────────\n",
        "label_names = {0: \"Negative\", 1: \"Neutral\", 2: \"Positive\"}\n",
        "combined_df[\"label_name\"] = combined_df[\"sentiment_num\"].map(label_names)\n",
        "\n",
        "plt.figure(figsize=(6, 4))\n",
        "sns.countplot(data=combined_df, x=\"label_name\", palette=\"pastel\")\n",
        "plt.title(\"Label Distribution\")\n",
        "plt.ylabel(\"Count\")\n",
        "plt.xlabel(\"Sentiment\")\n",
        "plt.show()\n",
        "\n",
        "# ─── 2. Sentence length distribution ────────────────────────────\n",
        "sentence_lengths = combined_df[\"tokens\"].apply(len)\n",
        "\n",
        "plt.figure(figsize=(8, 4))\n",
        "sns.histplot(sentence_lengths, bins=30, kde=True, color=\"skyblue\")\n",
        "plt.title(\"Sentence Length Distribution (in tokens)\")\n",
        "plt.xlabel(\"Number of Tokens\")\n",
        "plt.ylabel(\"Frequency\")\n",
        "plt.show()\n",
        "\n",
        "print(f\"Sentence length stats:\")\n",
        "print(f\"Min: {sentence_lengths.min()}, Max: {sentence_lengths.max()}\")\n",
        "print(f\"Mean: {sentence_lengths.mean():.2f}, Median: {sentence_lengths.median()}\")\n",
        "\n",
        "# ─── 3. Most common tokens ──────────────────────────────────────\n",
        "all_tokens = [t for tokens in combined_df[\"tokens\"] for t in tokens]\n",
        "token_counts = Counter(all_tokens)\n",
        "common_words = token_counts.most_common(20)\n",
        "\n",
        "tokens, freqs = zip(*common_words)\n",
        "plt.figure(figsize=(10, 5))\n",
        "sns.barplot(x=list(tokens), y=list(freqs), palette=\"mako\")\n",
        "plt.xticks(rotation=45)\n",
        "plt.title(\"Top 20 Most Frequent Tokens\")\n",
        "plt.xlabel(\"Token\")\n",
        "plt.ylabel(\"Frequency\")\n",
        "plt.show()\n",
        "\n",
        "# ─── 4. Vocabulary Size ─────────────────────────────────────────\n",
        "vocab_size = len(token_counts)\n",
        "print(f\"📚 Total unique tokens (vocabulary size): {vocab_size}\")\n"
      ],
      "metadata": {
        "colab": {
          "base_uri": "https://localhost:8080/",
          "height": 1000
        },
        "id": "3z65nWwTtZvs",
        "outputId": "bb3b7ea2-662b-4fb1-c332-695ffced3840"
      },
      "execution_count": null,
      "outputs": [
        {
          "output_type": "stream",
          "name": "stderr",
          "text": [
            "<ipython-input-3-3f45f56b96a5>:14: FutureWarning: \n",
            "\n",
            "Passing `palette` without assigning `hue` is deprecated and will be removed in v0.14.0. Assign the `x` variable to `hue` and set `legend=False` for the same effect.\n",
            "\n",
            "  sns.countplot(data=combined_df, x=\"label_name\", palette=\"pastel\")\n"
          ]
        },
        {
          "output_type": "display_data",
          "data": {
            "text/plain": [
              "<Figure size 600x400 with 1 Axes>"
            ],
            "image/png": "[encoded data removed]"
          },
          "metadata": {}
        },
        {
          "output_type": "display_data",
          "data": {
            "text/plain": [
              "<Figure size 800x400 with 1 Axes>"
            ],
            "image/png": "[encoded data removed]"
          },
          "metadata": {}
        },
        {
          "output_type": "stream",
          "name": "stdout",
          "text": [
            "Sentence length stats:\n",
            "Min: 0, Max: 402\n",
            "Mean: 9.69, Median: 9.0\n"
          ]
        },
        {
          "output_type": "stream",
          "name": "stderr",
          "text": [
            "<ipython-input-3-3f45f56b96a5>:41: FutureWarning: \n",
            "\n",
            "Passing `palette` without assigning `hue` is deprecated and will be removed in v0.14.0. Assign the `x` variable to `hue` and set `legend=False` for the same effect.\n",
            "\n",
            "  sns.barplot(x=list(tokens), y=list(freqs), palette=\"mako\")\n"
          ]
        },
        {
          "output_type": "display_data",
          "data": {
            "text/plain": [
              "<Figure size 1000x500 with 1 Axes>"
            ],
            "image/png": "[encoded data removed]"
          },
          "metadata": {}
        },
        {
          "output_type": "stream",
          "name": "stdout",
          "text": [
            "📚 Total unique tokens (vocabulary size): 35931\n"
          ]
        }
      ]
    },
    {
      "cell_type": "code",
      "source": [
        "import json\n",
        "from tqdm import tqdm\n",
        "\n",
        "# ─── Generate skip-gram pairs ────────────────────────────────────\n",
        "WINDOW_SIZE = 2\n",
        "skipgram_pairs = []\n",
        "\n",
        "for record in tqdm(data, desc=\"Generating skip-gram pairs\"):\n",
        "    tokens = record[\"tokens\"]\n",
        "    token_ids = [word2idx[t] for t in tokens if t in word2idx]\n",
        "    for i, center_id in enumerate(token_ids):\n",
        "        for offset in range(-WINDOW_SIZE, WINDOW_SIZE + 1):\n",
        "            context_pos = i + offset\n",
        "            if offset == 0 or context_pos < 0 or context_pos >= len(token_ids):\n",
        "                continue\n",
        "            context_id = token_ids[context_pos]\n",
        "            skipgram_pairs.append((center_id, context_id))\n",
        "\n",
        "print(f\"✅ Generated {len(skipgram_pairs):,} skip-gram pairs\")\n"
      ],
      "metadata": {
        "colab": {
          "base_uri": "https://localhost:8080/"
        },
        "id": "groV6YHe6Noh",
        "outputId": "be8e85f5-7a2e-4e73-b5b6-603fe434bf2b"
      },
      "execution_count": null,
      "outputs": [
        {
          "output_type": "stream",
          "name": "stderr",
          "text": [
            "Generating skip-gram pairs: 100%|██████████| 43921/43921 [00:01<00:00, 32313.31it/s]"
          ]
        },
        {
          "output_type": "stream",
          "name": "stdout",
          "text": [
            "✅ Generated 1,314,326 skip-gram pairs\n"
          ]
        },
        {
          "output_type": "stream",
          "name": "stderr",
          "text": [
            "\n"
          ]
        }
      ]
    },
    {
      "cell_type": "code",
      "source": [
        "import numpy as np\n",
        "import random\n",
        "\n",
        "\n",
        "# ─── Hyperparameters ──────────────────────────────────────────────\n",
        "vocab_size = len(word2idx)\n",
        "embedding_dim = 100\n",
        "learning_rate = 0.005\n",
        "epochs = 10\n",
        "neg_samples = 2\n",
        "\n",
        "# ─── Weight Initialization ───────────────────────────────────────\n",
        "W1 = np.random.randn(vocab_size, embedding_dim) * 0.01  # input embeddings\n",
        "W2 = np.random.randn(vocab_size, embedding_dim) * 0.01  # output embeddings\n",
        "\n",
        "# ─── Utility Functions ───────────────────────────────────────────\n",
        "def sigmoid(x):\n",
        "    x = np.clip(x, -10, 10)  # 🔧 prevent overflow\n",
        "    return 1.0 / (1.0 + np.exp(-x))\n",
        "\n",
        "def get_negative_samples(true_id, k):\n",
        "    samples = []\n",
        "    while len(samples) < k:\n",
        "        neg = random.randint(0, vocab_size - 1)\n",
        "        if neg != true_id:\n",
        "            samples.append(neg)\n",
        "    return samples\n",
        "\n",
        "def clip_norms(W, max_norm=5.0):\n",
        "    norms = np.linalg.norm(W, axis=1, keepdims=True)\n",
        "    scale = np.clip(norms, 0, max_norm) / (norms + 1e-8)\n",
        "    return W * scale\n",
        "\n",
        "# ─── Training Loop ───────────────────────────────────────────────\n",
        "for epoch in range(epochs):\n",
        "    total_loss = 0.0\n",
        "    np.random.shuffle(skipgram_pairs)\n",
        "\n",
        "    print(f\"\\n🟢 Epoch {epoch+1}/{epochs}\")\n",
        "    for i, (target_id, context_id) in enumerate(tqdm(skipgram_pairs, desc=\"Training\", unit=\"pair\")):\n",
        "        v_t = W1[target_id]\n",
        "        u_c = W2[context_id]\n",
        "\n",
        "        # Positive sample\n",
        "        score_pos = sigmoid(np.dot(u_c, v_t))\n",
        "        loss_pos = -np.log(score_pos + 1e-8)\n",
        "        total_loss += loss_pos\n",
        "\n",
        "        grad_pos = score_pos - 1\n",
        "        W2[context_id] -= learning_rate * grad_pos * v_t\n",
        "        grad_v = grad_pos * u_c\n",
        "\n",
        "        # Negative samples\n",
        "        for neg_id in get_negative_samples(context_id, neg_samples):\n",
        "            u_k = W2[neg_id]\n",
        "            score_neg = sigmoid(-np.dot(u_k, v_t))\n",
        "            loss_neg = -np.log(score_neg + 1e-8)\n",
        "            total_loss += loss_neg\n",
        "\n",
        "            grad_neg = (1 - score_neg)\n",
        "            W2[neg_id] -= learning_rate * grad_neg * v_t\n",
        "            grad_v += grad_neg * u_k\n",
        "\n",
        "        # Update input embedding\n",
        "        W1[target_id] -= learning_rate * grad_v\n",
        "\n",
        "        # Optional: print loss every 100k\n",
        "        if (i + 1) % 100000 == 0:\n",
        "            tqdm.write(f\"Pair {i+1}/{len(skipgram_pairs)} — Avg Loss: {total_loss / (i+1):.4f}\")\n",
        "\n",
        "    # Clip norms to prevent divergence\n",
        "    W1 = clip_norms(W1)\n",
        "    W2 = clip_norms(W2)\n",
        "\n",
        "    print(f\"✅ Epoch {epoch+1} complete. Total Loss: {total_loss:.2f}\")\n"
      ],
      "metadata": {
        "colab": {
          "base_uri": "https://localhost:8080/"
        },
        "id": "pXT_o7A-7Zkd",
        "outputId": "96f9c6ba-c788-4828-c564-bb7165953291"
      },
      "execution_count": null,
      "outputs": [
        {
          "output_type": "stream",
          "name": "stdout",
          "text": [
            "\n",
            "🟢 Epoch 1/10\n"
          ]
        },
        {
          "output_type": "stream",
          "name": "stderr",
          "text": [
            "Training:   8%|▊         | 103002/1314326 [00:08<01:29, 13585.09pair/s]"
          ]
        },
        {
          "output_type": "stream",
          "name": "stdout",
          "text": [
            "Pair 100000/1314326 — Avg Loss: 2.0794\n"
          ]
        },
        {
          "output_type": "stream",
          "name": "stderr",
          "text": [
            "Training:  15%|█▌        | 201558/1314326 [00:16<01:12, 15301.39pair/s]"
          ]
        },
        {
          "output_type": "stream",
          "name": "stdout",
          "text": [
            "Pair 200000/1314326 — Avg Loss: 2.0794\n"
          ]
        },
        {
          "output_type": "stream",
          "name": "stderr",
          "text": [
            "Training:  23%|██▎       | 301616/1314326 [00:23<01:08, 14756.41pair/s]"
          ]
        },
        {
          "output_type": "stream",
          "name": "stdout",
          "text": [
            "Pair 300000/1314326 — Avg Loss: 2.0794\n"
          ]
        },
        {
          "output_type": "stream",
          "name": "stderr",
          "text": [
            "Training:  31%|███       | 402747/1314326 [00:32<01:01, 14888.67pair/s]"
          ]
        },
        {
          "output_type": "stream",
          "name": "stdout",
          "text": [
            "Pair 400000/1314326 — Avg Loss: 2.0794\n"
          ]
        },
        {
          "output_type": "stream",
          "name": "stderr",
          "text": [
            "Training:  38%|███▊      | 501697/1314326 [00:40<01:00, 13367.07pair/s]"
          ]
        },
        {
          "output_type": "stream",
          "name": "stdout",
          "text": [
            "Pair 500000/1314326 — Avg Loss: 2.0793\n"
          ]
        },
        {
          "output_type": "stream",
          "name": "stderr",
          "text": [
            "Training:  46%|████▌     | 601838/1314326 [00:48<00:49, 14290.18pair/s]"
          ]
        },
        {
          "output_type": "stream",
          "name": "stdout",
          "text": [
            "Pair 600000/1314326 — Avg Loss: 2.0793\n"
          ]
        },
        {
          "output_type": "stream",
          "name": "stderr",
          "text": [
            "Training:  53%|█████▎    | 702448/1314326 [00:56<00:47, 12928.60pair/s]"
          ]
        },
        {
          "output_type": "stream",
          "name": "stdout",
          "text": [
            "Pair 700000/1314326 — Avg Loss: 2.0792\n"
          ]
        },
        {
          "output_type": "stream",
          "name": "stderr",
          "text": [
            "Training:  61%|██████    | 801844/1314326 [01:04<00:55, 9248.60pair/s]"
          ]
        },
        {
          "output_type": "stream",
          "name": "stdout",
          "text": [
            "Pair 800000/1314326 — Avg Loss: 2.0791\n"
          ]
        },
        {
          "output_type": "stream",
          "name": "stderr",
          "text": [
            "Training:  69%|██████▊   | 902538/1314326 [01:12<00:29, 13851.13pair/s]"
          ]
        },
        {
          "output_type": "stream",
          "name": "stdout",
          "text": [
            "Pair 900000/1314326 — Avg Loss: 2.0788\n"
          ]
        },
        {
          "output_type": "stream",
          "name": "stderr",
          "text": [
            "Training:  76%|███████▌  | 1002104/1314326 [01:19<00:18, 16553.63pair/s]"
          ]
        },
        {
          "output_type": "stream",
          "name": "stdout",
          "text": [
            "Pair 1000000/1314326 — Avg Loss: 2.0784\n"
          ]
        },
        {
          "output_type": "stream",
          "name": "stderr",
          "text": [
            "Training:  84%|████████▍ | 1102363/1314326 [01:25<00:12, 16371.94pair/s]"
          ]
        },
        {
          "output_type": "stream",
          "name": "stdout",
          "text": [
            "Pair 1100000/1314326 — Avg Loss: 2.0779\n"
          ]
        },
        {
          "output_type": "stream",
          "name": "stderr",
          "text": [
            "Training:  92%|█████████▏| 1203450/1314326 [01:32<00:07, 14486.55pair/s]"
          ]
        },
        {
          "output_type": "stream",
          "name": "stdout",
          "text": [
            "Pair 1200000/1314326 — Avg Loss: 2.0770\n"
          ]
        },
        {
          "output_type": "stream",
          "name": "stderr",
          "text": [
            "Training:  99%|█████████▉| 1302368/1314326 [01:39<00:00, 13740.72pair/s]"
          ]
        },
        {
          "output_type": "stream",
          "name": "stdout",
          "text": [
            "Pair 1300000/1314326 — Avg Loss: 2.0756\n"
          ]
        },
        {
          "output_type": "stream",
          "name": "stderr",
          "text": [
            "Training: 100%|██████████| 1314326/1314326 [01:40<00:00, 13130.48pair/s]\n"
          ]
        },
        {
          "output_type": "stream",
          "name": "stdout",
          "text": [
            "✅ Epoch 1 complete. Total Loss: 2727760.47\n",
            "\n",
            "🟢 Epoch 2/10\n"
          ]
        },
        {
          "output_type": "stream",
          "name": "stderr",
          "text": [
            "Training:   8%|▊         | 101875/1314326 [00:07<01:31, 13239.03pair/s]"
          ]
        },
        {
          "output_type": "stream",
          "name": "stdout",
          "text": [
            "Pair 100000/1314326 — Avg Loss: 2.0470\n"
          ]
        },
        {
          "output_type": "stream",
          "name": "stderr",
          "text": [
            "Training:  15%|█▌        | 201165/1314326 [00:14<01:36, 11499.75pair/s]"
          ]
        },
        {
          "output_type": "stream",
          "name": "stdout",
          "text": [
            "Pair 200000/1314326 — Avg Loss: 2.0392\n"
          ]
        },
        {
          "output_type": "stream",
          "name": "stderr",
          "text": [
            "Training:  23%|██▎       | 301655/1314326 [00:21<01:02, 16215.49pair/s]"
          ]
        },
        {
          "output_type": "stream",
          "name": "stdout",
          "text": [
            "Pair 300000/1314326 — Avg Loss: 2.0309\n"
          ]
        },
        {
          "output_type": "stream",
          "name": "stderr",
          "text": [
            "Training:  31%|███       | 401563/1314326 [00:28<01:21, 11179.33pair/s]"
          ]
        },
        {
          "output_type": "stream",
          "name": "stdout",
          "text": [
            "Pair 400000/1314326 — Avg Loss: 2.0217\n"
          ]
        },
        {
          "output_type": "stream",
          "name": "stderr",
          "text": [
            "Training:  38%|███▊      | 504048/1314326 [00:35<00:49, 16435.94pair/s]"
          ]
        },
        {
          "output_type": "stream",
          "name": "stdout",
          "text": [
            "Pair 500000/1314326 — Avg Loss: 2.0118\n"
          ]
        },
        {
          "output_type": "stream",
          "name": "stderr",
          "text": [
            "Training:  46%|████▌     | 602476/1314326 [00:43<00:56, 12504.87pair/s]"
          ]
        },
        {
          "output_type": "stream",
          "name": "stdout",
          "text": [
            "Pair 600000/1314326 — Avg Loss: 2.0016\n"
          ]
        },
        {
          "output_type": "stream",
          "name": "stderr",
          "text": [
            "Training:  53%|█████▎    | 701497/1314326 [00:49<00:45, 13583.22pair/s]"
          ]
        },
        {
          "output_type": "stream",
          "name": "stdout",
          "text": [
            "Pair 700000/1314326 — Avg Loss: 1.9912\n"
          ]
        },
        {
          "output_type": "stream",
          "name": "stderr",
          "text": [
            "Training:  61%|██████    | 803123/1314326 [00:56<00:32, 15604.45pair/s]"
          ]
        },
        {
          "output_type": "stream",
          "name": "stdout",
          "text": [
            "Pair 800000/1314326 — Avg Loss: 1.9805\n"
          ]
        },
        {
          "output_type": "stream",
          "name": "stderr",
          "text": [
            "Training:  69%|██████▉   | 903611/1314326 [01:03<00:24, 16972.52pair/s]"
          ]
        },
        {
          "output_type": "stream",
          "name": "stdout",
          "text": [
            "Pair 900000/1314326 — Avg Loss: 1.9698\n"
          ]
        },
        {
          "output_type": "stream",
          "name": "stderr",
          "text": [
            "Training:  76%|███████▋  | 1002560/1314326 [01:10<00:19, 15707.54pair/s]"
          ]
        },
        {
          "output_type": "stream",
          "name": "stdout",
          "text": [
            "Pair 1000000/1314326 — Avg Loss: 1.9591\n"
          ]
        },
        {
          "output_type": "stream",
          "name": "stderr",
          "text": [
            "Training:  84%|████████▍ | 1101794/1314326 [01:16<00:12, 17128.36pair/s]"
          ]
        },
        {
          "output_type": "stream",
          "name": "stdout",
          "text": [
            "Pair 1100000/1314326 — Avg Loss: 1.9481\n"
          ]
        },
        {
          "output_type": "stream",
          "name": "stderr",
          "text": [
            "Training:  91%|█████████▏| 1201569/1314326 [01:23<00:07, 14616.98pair/s]"
          ]
        },
        {
          "output_type": "stream",
          "name": "stdout",
          "text": [
            "Pair 1200000/1314326 — Avg Loss: 1.9371\n"
          ]
        },
        {
          "output_type": "stream",
          "name": "stderr",
          "text": [
            "Training:  99%|█████████▉| 1303418/1314326 [01:30<00:00, 17280.41pair/s]"
          ]
        },
        {
          "output_type": "stream",
          "name": "stdout",
          "text": [
            "Pair 1300000/1314326 — Avg Loss: 1.9263\n"
          ]
        },
        {
          "output_type": "stream",
          "name": "stderr",
          "text": [
            "Training: 100%|██████████| 1314326/1314326 [01:31<00:00, 14391.34pair/s]\n"
          ]
        },
        {
          "output_type": "stream",
          "name": "stdout",
          "text": [
            "✅ Epoch 2 complete. Total Loss: 2529582.51\n",
            "\n",
            "🟢 Epoch 3/10\n"
          ]
        },
        {
          "output_type": "stream",
          "name": "stderr",
          "text": [
            "Training:   8%|▊         | 101653/1314326 [00:06<01:25, 14191.85pair/s]"
          ]
        },
        {
          "output_type": "stream",
          "name": "stdout",
          "text": [
            "Pair 100000/1314326 — Avg Loss: 1.7689\n"
          ]
        },
        {
          "output_type": "stream",
          "name": "stderr",
          "text": [
            "Training:  15%|█▌        | 202140/1314326 [00:14<01:21, 13718.60pair/s]"
          ]
        },
        {
          "output_type": "stream",
          "name": "stdout",
          "text": [
            "Pair 200000/1314326 — Avg Loss: 1.7589\n"
          ]
        },
        {
          "output_type": "stream",
          "name": "stderr",
          "text": [
            "Training:  23%|██▎       | 302250/1314326 [00:20<01:11, 14069.03pair/s]"
          ]
        },
        {
          "output_type": "stream",
          "name": "stdout",
          "text": [
            "Pair 300000/1314326 — Avg Loss: 1.7478\n"
          ]
        },
        {
          "output_type": "stream",
          "name": "stderr",
          "text": [
            "Training:  31%|███       | 403237/1314326 [00:28<01:02, 14479.58pair/s]"
          ]
        },
        {
          "output_type": "stream",
          "name": "stdout",
          "text": [
            "Pair 400000/1314326 — Avg Loss: 1.7362\n"
          ]
        },
        {
          "output_type": "stream",
          "name": "stderr",
          "text": [
            "Training:  38%|███▊      | 501666/1314326 [00:34<00:51, 15904.68pair/s]"
          ]
        },
        {
          "output_type": "stream",
          "name": "stdout",
          "text": [
            "Pair 500000/1314326 — Avg Loss: 1.7245\n"
          ]
        },
        {
          "output_type": "stream",
          "name": "stderr",
          "text": [
            "Training:  46%|████▌     | 602403/1314326 [00:42<00:45, 15516.12pair/s]"
          ]
        },
        {
          "output_type": "stream",
          "name": "stdout",
          "text": [
            "Pair 600000/1314326 — Avg Loss: 1.7132\n"
          ]
        },
        {
          "output_type": "stream",
          "name": "stderr",
          "text": [
            "Training:  53%|█████▎    | 702273/1314326 [00:48<00:48, 12510.76pair/s]"
          ]
        },
        {
          "output_type": "stream",
          "name": "stdout",
          "text": [
            "Pair 700000/1314326 — Avg Loss: 1.7019\n"
          ]
        },
        {
          "output_type": "stream",
          "name": "stderr",
          "text": [
            "Training:  61%|██████    | 802843/1314326 [00:56<00:33, 15346.87pair/s]"
          ]
        },
        {
          "output_type": "stream",
          "name": "stdout",
          "text": [
            "Pair 800000/1314326 — Avg Loss: 1.6908\n"
          ]
        },
        {
          "output_type": "stream",
          "name": "stderr",
          "text": [
            "Training:  69%|██████▊   | 902010/1314326 [01:02<00:28, 14491.37pair/s]"
          ]
        },
        {
          "output_type": "stream",
          "name": "stdout",
          "text": [
            "Pair 900000/1314326 — Avg Loss: 1.6797\n"
          ]
        },
        {
          "output_type": "stream",
          "name": "stderr",
          "text": [
            "Training:  76%|███████▌  | 1001661/1314326 [01:09<00:21, 14695.49pair/s]"
          ]
        },
        {
          "output_type": "stream",
          "name": "stdout",
          "text": [
            "Pair 1000000/1314326 — Avg Loss: 1.6686\n"
          ]
        },
        {
          "output_type": "stream",
          "name": "stderr",
          "text": [
            "Training:  84%|████████▍ | 1101274/1314326 [01:16<00:18, 11717.46pair/s]"
          ]
        },
        {
          "output_type": "stream",
          "name": "stdout",
          "text": [
            "Pair 1100000/1314326 — Avg Loss: 1.6574\n"
          ]
        },
        {
          "output_type": "stream",
          "name": "stderr",
          "text": [
            "Training:  91%|█████████▏| 1202527/1314326 [01:23<00:06, 16820.52pair/s]"
          ]
        },
        {
          "output_type": "stream",
          "name": "stdout",
          "text": [
            "Pair 1200000/1314326 — Avg Loss: 1.6464\n"
          ]
        },
        {
          "output_type": "stream",
          "name": "stderr",
          "text": [
            "Training:  99%|█████████▉| 1301696/1314326 [01:30<00:01, 11530.66pair/s]"
          ]
        },
        {
          "output_type": "stream",
          "name": "stdout",
          "text": [
            "Pair 1300000/1314326 — Avg Loss: 1.6354\n"
          ]
        },
        {
          "output_type": "stream",
          "name": "stderr",
          "text": [
            "Training: 100%|██████████| 1314326/1314326 [01:31<00:00, 14412.51pair/s]\n"
          ]
        },
        {
          "output_type": "stream",
          "name": "stdout",
          "text": [
            "✅ Epoch 3 complete. Total Loss: 2147395.47\n",
            "\n",
            "🟢 Epoch 4/10\n"
          ]
        },
        {
          "output_type": "stream",
          "name": "stderr",
          "text": [
            "Training:   8%|▊         | 102681/1314326 [00:07<01:24, 14384.05pair/s]"
          ]
        },
        {
          "output_type": "stream",
          "name": "stdout",
          "text": [
            "Pair 100000/1314326 — Avg Loss: 1.4805\n"
          ]
        },
        {
          "output_type": "stream",
          "name": "stderr",
          "text": [
            "Training:  15%|█▌        | 202734/1314326 [00:14<01:11, 15449.80pair/s]"
          ]
        },
        {
          "output_type": "stream",
          "name": "stdout",
          "text": [
            "Pair 200000/1314326 — Avg Loss: 1.4687\n"
          ]
        },
        {
          "output_type": "stream",
          "name": "stderr",
          "text": [
            "Training:  23%|██▎       | 302447/1314326 [00:21<01:07, 15005.54pair/s]"
          ]
        },
        {
          "output_type": "stream",
          "name": "stdout",
          "text": [
            "Pair 300000/1314326 — Avg Loss: 1.4578\n"
          ]
        },
        {
          "output_type": "stream",
          "name": "stderr",
          "text": [
            "Training:  31%|███       | 402768/1314326 [00:28<00:49, 18420.35pair/s]"
          ]
        },
        {
          "output_type": "stream",
          "name": "stdout",
          "text": [
            "Pair 400000/1314326 — Avg Loss: 1.4465\n"
          ]
        },
        {
          "output_type": "stream",
          "name": "stderr",
          "text": [
            "Training:  38%|███▊      | 503292/1314326 [00:34<00:54, 14824.00pair/s]"
          ]
        },
        {
          "output_type": "stream",
          "name": "stdout",
          "text": [
            "Pair 500000/1314326 — Avg Loss: 1.4370\n"
          ]
        },
        {
          "output_type": "stream",
          "name": "stderr",
          "text": [
            "Training:  46%|████▌     | 601908/1314326 [00:41<00:51, 13747.21pair/s]"
          ]
        },
        {
          "output_type": "stream",
          "name": "stdout",
          "text": [
            "Pair 600000/1314326 — Avg Loss: 1.4273\n"
          ]
        },
        {
          "output_type": "stream",
          "name": "stderr",
          "text": [
            "Training:  53%|█████▎    | 700851/1314326 [00:48<00:46, 13186.51pair/s]"
          ]
        },
        {
          "output_type": "stream",
          "name": "stdout",
          "text": [
            "Pair 700000/1314326 — Avg Loss: 1.4174\n"
          ]
        },
        {
          "output_type": "stream",
          "name": "stderr",
          "text": [
            "Training:  61%|██████    | 802942/1314326 [00:55<00:27, 18268.86pair/s]"
          ]
        },
        {
          "output_type": "stream",
          "name": "stdout",
          "text": [
            "Pair 800000/1314326 — Avg Loss: 1.4080\n"
          ]
        },
        {
          "output_type": "stream",
          "name": "stderr",
          "text": [
            "Training:  69%|██████▊   | 902152/1314326 [01:02<00:35, 11566.52pair/s]"
          ]
        },
        {
          "output_type": "stream",
          "name": "stdout",
          "text": [
            "Pair 900000/1314326 — Avg Loss: 1.3989\n"
          ]
        },
        {
          "output_type": "stream",
          "name": "stderr",
          "text": [
            "Training:  76%|███████▋  | 1002714/1314326 [01:09<00:19, 15727.85pair/s]"
          ]
        },
        {
          "output_type": "stream",
          "name": "stdout",
          "text": [
            "Pair 1000000/1314326 — Avg Loss: 1.3902\n"
          ]
        },
        {
          "output_type": "stream",
          "name": "stderr",
          "text": [
            "Training:  84%|████████▍ | 1102101/1314326 [01:16<00:19, 10931.83pair/s]"
          ]
        },
        {
          "output_type": "stream",
          "name": "stdout",
          "text": [
            "Pair 1100000/1314326 — Avg Loss: 1.3818\n"
          ]
        },
        {
          "output_type": "stream",
          "name": "stderr",
          "text": [
            "Training:  91%|█████████▏| 1201134/1314326 [01:23<00:09, 11533.62pair/s]"
          ]
        },
        {
          "output_type": "stream",
          "name": "stdout",
          "text": [
            "Pair 1200000/1314326 — Avg Loss: 1.3731\n"
          ]
        },
        {
          "output_type": "stream",
          "name": "stderr",
          "text": [
            "Training:  99%|█████████▉| 1303656/1314326 [01:32<00:00, 15251.63pair/s]"
          ]
        },
        {
          "output_type": "stream",
          "name": "stdout",
          "text": [
            "Pair 1300000/1314326 — Avg Loss: 1.3642\n"
          ]
        },
        {
          "output_type": "stream",
          "name": "stderr",
          "text": [
            "Training: 100%|██████████| 1314326/1314326 [01:32<00:00, 14160.78pair/s]\n"
          ]
        },
        {
          "output_type": "stream",
          "name": "stdout",
          "text": [
            "✅ Epoch 4 complete. Total Loss: 1791435.82\n",
            "\n",
            "🟢 Epoch 5/10\n"
          ]
        },
        {
          "output_type": "stream",
          "name": "stderr",
          "text": [
            "Training:   8%|▊         | 101287/1314326 [00:06<01:35, 12751.72pair/s]"
          ]
        },
        {
          "output_type": "stream",
          "name": "stdout",
          "text": [
            "Pair 100000/1314326 — Avg Loss: 1.2468\n"
          ]
        },
        {
          "output_type": "stream",
          "name": "stderr",
          "text": [
            "Training:  15%|█▌        | 203664/1314326 [00:13<01:07, 16462.41pair/s]"
          ]
        },
        {
          "output_type": "stream",
          "name": "stdout",
          "text": [
            "Pair 200000/1314326 — Avg Loss: 1.2386\n"
          ]
        },
        {
          "output_type": "stream",
          "name": "stderr",
          "text": [
            "Training:  23%|██▎       | 301471/1314326 [00:20<01:30, 11170.05pair/s]"
          ]
        },
        {
          "output_type": "stream",
          "name": "stdout",
          "text": [
            "Pair 300000/1314326 — Avg Loss: 1.2312\n"
          ]
        },
        {
          "output_type": "stream",
          "name": "stderr",
          "text": [
            "Training:  31%|███       | 402998/1314326 [00:27<00:56, 16013.93pair/s]"
          ]
        },
        {
          "output_type": "stream",
          "name": "stdout",
          "text": [
            "Pair 400000/1314326 — Avg Loss: 1.2249\n"
          ]
        },
        {
          "output_type": "stream",
          "name": "stderr",
          "text": [
            "Training:  38%|███▊      | 502858/1314326 [00:35<00:54, 15004.74pair/s]"
          ]
        },
        {
          "output_type": "stream",
          "name": "stdout",
          "text": [
            "Pair 500000/1314326 — Avg Loss: 1.2182\n"
          ]
        },
        {
          "output_type": "stream",
          "name": "stderr",
          "text": [
            "Training:  46%|████▌     | 602558/1314326 [00:41<00:49, 14314.93pair/s]"
          ]
        },
        {
          "output_type": "stream",
          "name": "stdout",
          "text": [
            "Pair 600000/1314326 — Avg Loss: 1.2119\n"
          ]
        },
        {
          "output_type": "stream",
          "name": "stderr",
          "text": [
            "Training:  54%|█████▎    | 703616/1314326 [00:48<00:35, 17262.53pair/s]"
          ]
        },
        {
          "output_type": "stream",
          "name": "stdout",
          "text": [
            "Pair 700000/1314326 — Avg Loss: 1.2058\n"
          ]
        },
        {
          "output_type": "stream",
          "name": "stderr",
          "text": [
            "Training:  61%|██████    | 802701/1314326 [00:55<00:35, 14422.85pair/s]"
          ]
        },
        {
          "output_type": "stream",
          "name": "stdout",
          "text": [
            "Pair 800000/1314326 — Avg Loss: 1.1998\n"
          ]
        },
        {
          "output_type": "stream",
          "name": "stderr",
          "text": [
            "Training:  69%|██████▊   | 902091/1314326 [01:02<00:24, 16654.08pair/s]"
          ]
        },
        {
          "output_type": "stream",
          "name": "stdout",
          "text": [
            "Pair 900000/1314326 — Avg Loss: 1.1939\n"
          ]
        },
        {
          "output_type": "stream",
          "name": "stderr",
          "text": [
            "Training:  76%|███████▌  | 1001643/1314326 [01:09<00:22, 14196.93pair/s]"
          ]
        },
        {
          "output_type": "stream",
          "name": "stdout",
          "text": [
            "Pair 1000000/1314326 — Avg Loss: 1.1880\n"
          ]
        },
        {
          "output_type": "stream",
          "name": "stderr",
          "text": [
            "Training:  84%|████████▍ | 1102212/1314326 [01:16<00:15, 14023.85pair/s]"
          ]
        },
        {
          "output_type": "stream",
          "name": "stdout",
          "text": [
            "Pair 1100000/1314326 — Avg Loss: 1.1826\n"
          ]
        },
        {
          "output_type": "stream",
          "name": "stderr",
          "text": [
            "Training:  91%|█████████▏| 1201911/1314326 [01:22<00:07, 14689.96pair/s]"
          ]
        },
        {
          "output_type": "stream",
          "name": "stdout",
          "text": [
            "Pair 1200000/1314326 — Avg Loss: 1.1774\n"
          ]
        },
        {
          "output_type": "stream",
          "name": "stderr",
          "text": [
            "Training:  99%|█████████▉| 1302109/1314326 [01:29<00:00, 15888.85pair/s]"
          ]
        },
        {
          "output_type": "stream",
          "name": "stdout",
          "text": [
            "Pair 1300000/1314326 — Avg Loss: 1.1725\n"
          ]
        },
        {
          "output_type": "stream",
          "name": "stderr",
          "text": [
            "Training: 100%|██████████| 1314326/1314326 [01:30<00:00, 14498.79pair/s]\n"
          ]
        },
        {
          "output_type": "stream",
          "name": "stdout",
          "text": [
            "✅ Epoch 5 complete. Total Loss: 1540024.71\n",
            "\n",
            "🟢 Epoch 6/10\n"
          ]
        },
        {
          "output_type": "stream",
          "name": "stderr",
          "text": [
            "Training:   8%|▊         | 102109/1314326 [00:06<01:46, 11382.30pair/s]"
          ]
        },
        {
          "output_type": "stream",
          "name": "stdout",
          "text": [
            "Pair 100000/1314326 — Avg Loss: 1.0952\n"
          ]
        },
        {
          "output_type": "stream",
          "name": "stderr",
          "text": [
            "Training:  15%|█▌        | 202193/1314326 [00:13<01:15, 14758.18pair/s]"
          ]
        },
        {
          "output_type": "stream",
          "name": "stdout",
          "text": [
            "Pair 200000/1314326 — Avg Loss: 1.0901\n"
          ]
        },
        {
          "output_type": "stream",
          "name": "stderr",
          "text": [
            "Training:  23%|██▎       | 302088/1314326 [00:20<01:34, 10754.82pair/s]"
          ]
        },
        {
          "output_type": "stream",
          "name": "stdout",
          "text": [
            "Pair 300000/1314326 — Avg Loss: 1.0863\n"
          ]
        },
        {
          "output_type": "stream",
          "name": "stderr",
          "text": [
            "Training:  31%|███       | 402394/1314326 [00:26<00:55, 16512.66pair/s]"
          ]
        },
        {
          "output_type": "stream",
          "name": "stdout",
          "text": [
            "Pair 400000/1314326 — Avg Loss: 1.0823\n"
          ]
        },
        {
          "output_type": "stream",
          "name": "stderr",
          "text": [
            "Training:  38%|███▊      | 503370/1314326 [00:34<00:55, 14561.22pair/s]"
          ]
        },
        {
          "output_type": "stream",
          "name": "stdout",
          "text": [
            "Pair 500000/1314326 — Avg Loss: 1.0774\n"
          ]
        },
        {
          "output_type": "stream",
          "name": "stderr",
          "text": [
            "Training:  46%|████▌     | 602661/1314326 [00:40<00:47, 14985.14pair/s]"
          ]
        },
        {
          "output_type": "stream",
          "name": "stdout",
          "text": [
            "Pair 600000/1314326 — Avg Loss: 1.0733\n"
          ]
        },
        {
          "output_type": "stream",
          "name": "stderr",
          "text": [
            "Training:  54%|█████▎    | 703415/1314326 [00:47<00:37, 16422.28pair/s]"
          ]
        },
        {
          "output_type": "stream",
          "name": "stdout",
          "text": [
            "Pair 700000/1314326 — Avg Loss: 1.0699\n"
          ]
        },
        {
          "output_type": "stream",
          "name": "stderr",
          "text": [
            "Training:  61%|██████    | 803062/1314326 [00:54<00:30, 16731.34pair/s]"
          ]
        },
        {
          "output_type": "stream",
          "name": "stdout",
          "text": [
            "Pair 800000/1314326 — Avg Loss: 1.0662\n"
          ]
        },
        {
          "output_type": "stream",
          "name": "stderr",
          "text": [
            "Training:  69%|██████▊   | 901611/1314326 [01:01<00:30, 13411.24pair/s]"
          ]
        },
        {
          "output_type": "stream",
          "name": "stdout",
          "text": [
            "Pair 900000/1314326 — Avg Loss: 1.0627\n"
          ]
        },
        {
          "output_type": "stream",
          "name": "stderr",
          "text": [
            "Training:  76%|███████▋  | 1003072/1314326 [01:08<00:18, 16772.47pair/s]"
          ]
        },
        {
          "output_type": "stream",
          "name": "stdout",
          "text": [
            "Pair 1000000/1314326 — Avg Loss: 1.0590\n"
          ]
        },
        {
          "output_type": "stream",
          "name": "stderr",
          "text": [
            "Training:  84%|████████▍ | 1102783/1314326 [01:15<00:14, 15037.73pair/s]"
          ]
        },
        {
          "output_type": "stream",
          "name": "stdout",
          "text": [
            "Pair 1100000/1314326 — Avg Loss: 1.0556\n"
          ]
        },
        {
          "output_type": "stream",
          "name": "stderr",
          "text": [
            "Training:  92%|█████████▏| 1202743/1314326 [01:21<00:06, 16483.04pair/s]"
          ]
        },
        {
          "output_type": "stream",
          "name": "stdout",
          "text": [
            "Pair 1200000/1314326 — Avg Loss: 1.0516\n"
          ]
        },
        {
          "output_type": "stream",
          "name": "stderr",
          "text": [
            "Training:  99%|█████████▉| 1302482/1314326 [01:29<00:00, 14070.97pair/s]"
          ]
        },
        {
          "output_type": "stream",
          "name": "stdout",
          "text": [
            "Pair 1300000/1314326 — Avg Loss: 1.0482\n"
          ]
        },
        {
          "output_type": "stream",
          "name": "stderr",
          "text": [
            "Training: 100%|██████████| 1314326/1314326 [01:30<00:00, 14579.29pair/s]\n"
          ]
        },
        {
          "output_type": "stream",
          "name": "stdout",
          "text": [
            "✅ Epoch 6 complete. Total Loss: 1377015.40\n",
            "\n",
            "🟢 Epoch 7/10\n"
          ]
        },
        {
          "output_type": "stream",
          "name": "stderr",
          "text": [
            "Training:   8%|▊         | 101540/1314326 [00:07<01:45, 11518.50pair/s]"
          ]
        },
        {
          "output_type": "stream",
          "name": "stdout",
          "text": [
            "Pair 100000/1314326 — Avg Loss: 0.9977\n"
          ]
        },
        {
          "output_type": "stream",
          "name": "stderr",
          "text": [
            "Training:  15%|█▌        | 203153/1314326 [00:14<01:15, 14784.88pair/s]"
          ]
        },
        {
          "output_type": "stream",
          "name": "stdout",
          "text": [
            "Pair 200000/1314326 — Avg Loss: 0.9932\n"
          ]
        },
        {
          "output_type": "stream",
          "name": "stderr",
          "text": [
            "Training:  23%|██▎       | 302103/1314326 [00:21<01:11, 14180.71pair/s]"
          ]
        },
        {
          "output_type": "stream",
          "name": "stdout",
          "text": [
            "Pair 300000/1314326 — Avg Loss: 0.9906\n"
          ]
        },
        {
          "output_type": "stream",
          "name": "stderr",
          "text": [
            "Training:  31%|███       | 402043/1314326 [00:28<01:02, 14525.20pair/s]"
          ]
        },
        {
          "output_type": "stream",
          "name": "stdout",
          "text": [
            "Pair 400000/1314326 — Avg Loss: 0.9879\n"
          ]
        },
        {
          "output_type": "stream",
          "name": "stderr",
          "text": [
            "Training:  38%|███▊      | 503883/1314326 [00:35<00:51, 15875.83pair/s]"
          ]
        },
        {
          "output_type": "stream",
          "name": "stdout",
          "text": [
            "Pair 500000/1314326 — Avg Loss: 0.9856\n"
          ]
        },
        {
          "output_type": "stream",
          "name": "stderr",
          "text": [
            "Training:  46%|████▌     | 603505/1314326 [00:41<00:43, 16275.22pair/s]"
          ]
        },
        {
          "output_type": "stream",
          "name": "stdout",
          "text": [
            "Pair 600000/1314326 — Avg Loss: 0.9826\n"
          ]
        },
        {
          "output_type": "stream",
          "name": "stderr",
          "text": [
            "Training:  53%|█████▎    | 701749/1314326 [00:49<00:37, 16327.16pair/s]"
          ]
        },
        {
          "output_type": "stream",
          "name": "stdout",
          "text": [
            "Pair 700000/1314326 — Avg Loss: 0.9799\n"
          ]
        },
        {
          "output_type": "stream",
          "name": "stderr",
          "text": [
            "Training:  61%|██████    | 802551/1314326 [00:55<00:33, 15206.97pair/s]"
          ]
        },
        {
          "output_type": "stream",
          "name": "stdout",
          "text": [
            "Pair 800000/1314326 — Avg Loss: 0.9765\n"
          ]
        },
        {
          "output_type": "stream",
          "name": "stderr",
          "text": [
            "Training:  69%|██████▊   | 902630/1314326 [01:02<00:29, 14160.87pair/s]"
          ]
        },
        {
          "output_type": "stream",
          "name": "stdout",
          "text": [
            "Pair 900000/1314326 — Avg Loss: 0.9743\n"
          ]
        },
        {
          "output_type": "stream",
          "name": "stderr",
          "text": [
            "Training:  76%|███████▌  | 1001446/1314326 [01:09<00:23, 13568.81pair/s]"
          ]
        },
        {
          "output_type": "stream",
          "name": "stdout",
          "text": [
            "Pair 1000000/1314326 — Avg Loss: 0.9716\n"
          ]
        },
        {
          "output_type": "stream",
          "name": "stderr",
          "text": [
            "Training:  84%|████████▍ | 1101871/1314326 [01:16<00:14, 14326.68pair/s]"
          ]
        },
        {
          "output_type": "stream",
          "name": "stdout",
          "text": [
            "Pair 1100000/1314326 — Avg Loss: 0.9691\n"
          ]
        },
        {
          "output_type": "stream",
          "name": "stderr",
          "text": [
            "Training:  91%|█████████▏| 1202245/1314326 [01:23<00:10, 11022.41pair/s]"
          ]
        },
        {
          "output_type": "stream",
          "name": "stdout",
          "text": [
            "Pair 1200000/1314326 — Avg Loss: 0.9669\n"
          ]
        },
        {
          "output_type": "stream",
          "name": "stderr",
          "text": [
            "Training:  99%|█████████▉| 1302496/1314326 [01:30<00:00, 13886.74pair/s]"
          ]
        },
        {
          "output_type": "stream",
          "name": "stdout",
          "text": [
            "Pair 1300000/1314326 — Avg Loss: 0.9645\n"
          ]
        },
        {
          "output_type": "stream",
          "name": "stderr",
          "text": [
            "Training: 100%|██████████| 1314326/1314326 [01:31<00:00, 14370.85pair/s]\n"
          ]
        },
        {
          "output_type": "stream",
          "name": "stdout",
          "text": [
            "✅ Epoch 7 complete. Total Loss: 1267246.02\n",
            "\n",
            "🟢 Epoch 8/10\n"
          ]
        },
        {
          "output_type": "stream",
          "name": "stderr",
          "text": [
            "Training:   8%|▊         | 102958/1314326 [00:07<01:15, 15995.18pair/s]"
          ]
        },
        {
          "output_type": "stream",
          "name": "stdout",
          "text": [
            "Pair 100000/1314326 — Avg Loss: 0.9269\n"
          ]
        },
        {
          "output_type": "stream",
          "name": "stderr",
          "text": [
            "Training:  15%|█▌        | 203040/1314326 [00:13<01:09, 16061.28pair/s]"
          ]
        },
        {
          "output_type": "stream",
          "name": "stdout",
          "text": [
            "Pair 200000/1314326 — Avg Loss: 0.9273\n"
          ]
        },
        {
          "output_type": "stream",
          "name": "stderr",
          "text": [
            "Training:  23%|██▎       | 301505/1314326 [00:21<00:58, 17204.52pair/s]"
          ]
        },
        {
          "output_type": "stream",
          "name": "stdout",
          "text": [
            "Pair 300000/1314326 — Avg Loss: 0.9257\n"
          ]
        },
        {
          "output_type": "stream",
          "name": "stderr",
          "text": [
            "Training:  31%|███       | 402838/1314326 [00:27<00:55, 16475.93pair/s]"
          ]
        },
        {
          "output_type": "stream",
          "name": "stdout",
          "text": [
            "Pair 400000/1314326 — Avg Loss: 0.9223\n"
          ]
        },
        {
          "output_type": "stream",
          "name": "stderr",
          "text": [
            "Training:  38%|███▊      | 502048/1314326 [00:34<01:01, 13118.03pair/s]"
          ]
        },
        {
          "output_type": "stream",
          "name": "stdout",
          "text": [
            "Pair 500000/1314326 — Avg Loss: 0.9210\n"
          ]
        },
        {
          "output_type": "stream",
          "name": "stderr",
          "text": [
            "Training:  46%|████▌     | 601358/1314326 [00:41<00:49, 14420.30pair/s]"
          ]
        },
        {
          "output_type": "stream",
          "name": "stdout",
          "text": [
            "Pair 600000/1314326 — Avg Loss: 0.9188\n"
          ]
        },
        {
          "output_type": "stream",
          "name": "stderr",
          "text": [
            "Training:  53%|█████▎    | 702034/1314326 [00:48<00:37, 16289.95pair/s]"
          ]
        },
        {
          "output_type": "stream",
          "name": "stdout",
          "text": [
            "Pair 700000/1314326 — Avg Loss: 0.9175\n"
          ]
        },
        {
          "output_type": "stream",
          "name": "stderr",
          "text": [
            "Training:  61%|██████    | 802116/1314326 [00:56<00:46, 11113.50pair/s]"
          ]
        },
        {
          "output_type": "stream",
          "name": "stdout",
          "text": [
            "Pair 800000/1314326 — Avg Loss: 0.9160\n"
          ]
        },
        {
          "output_type": "stream",
          "name": "stderr",
          "text": [
            "Training:  69%|██████▊   | 902668/1314326 [01:02<00:28, 14567.20pair/s]"
          ]
        },
        {
          "output_type": "stream",
          "name": "stdout",
          "text": [
            "Pair 900000/1314326 — Avg Loss: 0.9141\n"
          ]
        },
        {
          "output_type": "stream",
          "name": "stderr",
          "text": [
            "Training:  76%|███████▌  | 1001698/1314326 [01:09<00:27, 11245.61pair/s]"
          ]
        },
        {
          "output_type": "stream",
          "name": "stdout",
          "text": [
            "Pair 1000000/1314326 — Avg Loss: 0.9122\n"
          ]
        },
        {
          "output_type": "stream",
          "name": "stderr",
          "text": [
            "Training:  84%|████████▍ | 1101716/1314326 [01:16<00:11, 17731.40pair/s]"
          ]
        },
        {
          "output_type": "stream",
          "name": "stdout",
          "text": [
            "Pair 1100000/1314326 — Avg Loss: 0.9107\n"
          ]
        },
        {
          "output_type": "stream",
          "name": "stderr",
          "text": [
            "Training:  91%|█████████▏| 1201558/1314326 [01:23<00:07, 15515.53pair/s]"
          ]
        },
        {
          "output_type": "stream",
          "name": "stdout",
          "text": [
            "Pair 1200000/1314326 — Avg Loss: 0.9089\n"
          ]
        },
        {
          "output_type": "stream",
          "name": "stderr",
          "text": [
            "Training:  99%|█████████▉| 1301940/1314326 [01:30<00:00, 18405.77pair/s]"
          ]
        },
        {
          "output_type": "stream",
          "name": "stdout",
          "text": [
            "Pair 1300000/1314326 — Avg Loss: 0.9074\n"
          ]
        },
        {
          "output_type": "stream",
          "name": "stderr",
          "text": [
            "Training: 100%|██████████| 1314326/1314326 [01:31<00:00, 14403.53pair/s]\n"
          ]
        },
        {
          "output_type": "stream",
          "name": "stdout",
          "text": [
            "✅ Epoch 8 complete. Total Loss: 1192273.95\n",
            "\n",
            "🟢 Epoch 9/10\n"
          ]
        },
        {
          "output_type": "stream",
          "name": "stderr",
          "text": [
            "Training:   8%|▊         | 102968/1314326 [00:07<01:20, 15086.88pair/s]"
          ]
        },
        {
          "output_type": "stream",
          "name": "stdout",
          "text": [
            "Pair 100000/1314326 — Avg Loss: 0.8789\n"
          ]
        },
        {
          "output_type": "stream",
          "name": "stderr",
          "text": [
            "Training:  15%|█▌        | 202298/1314326 [00:13<01:11, 15661.78pair/s]"
          ]
        },
        {
          "output_type": "stream",
          "name": "stdout",
          "text": [
            "Pair 200000/1314326 — Avg Loss: 0.8778\n"
          ]
        },
        {
          "output_type": "stream",
          "name": "stderr",
          "text": [
            "Training:  23%|██▎       | 302409/1314326 [00:21<01:11, 14229.90pair/s]"
          ]
        },
        {
          "output_type": "stream",
          "name": "stdout",
          "text": [
            "Pair 300000/1314326 — Avg Loss: 0.8776\n"
          ]
        },
        {
          "output_type": "stream",
          "name": "stderr",
          "text": [
            "Training:  31%|███       | 401323/1314326 [00:27<01:19, 11454.09pair/s]"
          ]
        },
        {
          "output_type": "stream",
          "name": "stdout",
          "text": [
            "Pair 400000/1314326 — Avg Loss: 0.8766\n"
          ]
        },
        {
          "output_type": "stream",
          "name": "stderr",
          "text": [
            "Training:  38%|███▊      | 501721/1314326 [00:34<00:59, 13699.35pair/s]"
          ]
        },
        {
          "output_type": "stream",
          "name": "stdout",
          "text": [
            "Pair 500000/1314326 — Avg Loss: 0.8748\n"
          ]
        },
        {
          "output_type": "stream",
          "name": "stderr",
          "text": [
            "Training:  46%|████▌     | 601505/1314326 [00:41<01:03, 11284.61pair/s]"
          ]
        },
        {
          "output_type": "stream",
          "name": "stdout",
          "text": [
            "Pair 600000/1314326 — Avg Loss: 0.8732\n"
          ]
        },
        {
          "output_type": "stream",
          "name": "stderr",
          "text": [
            "Training:  53%|█████▎    | 702503/1314326 [00:48<00:44, 13882.43pair/s]"
          ]
        },
        {
          "output_type": "stream",
          "name": "stdout",
          "text": [
            "Pair 700000/1314326 — Avg Loss: 0.8726\n"
          ]
        },
        {
          "output_type": "stream",
          "name": "stderr",
          "text": [
            "Training:  61%|██████    | 801327/1314326 [00:55<00:47, 10867.52pair/s]"
          ]
        },
        {
          "output_type": "stream",
          "name": "stdout",
          "text": [
            "Pair 800000/1314326 — Avg Loss: 0.8720\n"
          ]
        },
        {
          "output_type": "stream",
          "name": "stderr",
          "text": [
            "Training:  69%|██████▊   | 901846/1314326 [01:02<00:25, 15962.85pair/s]"
          ]
        },
        {
          "output_type": "stream",
          "name": "stdout",
          "text": [
            "Pair 900000/1314326 — Avg Loss: 0.8712\n"
          ]
        },
        {
          "output_type": "stream",
          "name": "stderr",
          "text": [
            "Training:  76%|███████▋  | 1003678/1314326 [01:09<00:17, 17902.90pair/s]"
          ]
        },
        {
          "output_type": "stream",
          "name": "stdout",
          "text": [
            "Pair 1000000/1314326 — Avg Loss: 0.8701\n"
          ]
        },
        {
          "output_type": "stream",
          "name": "stderr",
          "text": [
            "Training:  84%|████████▍ | 1103217/1314326 [01:16<00:13, 15386.55pair/s]"
          ]
        },
        {
          "output_type": "stream",
          "name": "stdout",
          "text": [
            "Pair 1100000/1314326 — Avg Loss: 0.8697\n"
          ]
        },
        {
          "output_type": "stream",
          "name": "stderr",
          "text": [
            "Training:  92%|█████████▏| 1202853/1314326 [01:23<00:08, 13537.11pair/s]"
          ]
        },
        {
          "output_type": "stream",
          "name": "stdout",
          "text": [
            "Pair 1200000/1314326 — Avg Loss: 0.8683\n"
          ]
        },
        {
          "output_type": "stream",
          "name": "stderr",
          "text": [
            "Training:  99%|█████████▉| 1302520/1314326 [01:29<00:00, 16266.66pair/s]"
          ]
        },
        {
          "output_type": "stream",
          "name": "stdout",
          "text": [
            "Pair 1300000/1314326 — Avg Loss: 0.8668\n"
          ]
        },
        {
          "output_type": "stream",
          "name": "stderr",
          "text": [
            "Training: 100%|██████████| 1314326/1314326 [01:30<00:00, 14544.97pair/s]\n"
          ]
        },
        {
          "output_type": "stream",
          "name": "stdout",
          "text": [
            "✅ Epoch 9 complete. Total Loss: 1139178.68\n",
            "\n",
            "🟢 Epoch 10/10\n"
          ]
        },
        {
          "output_type": "stream",
          "name": "stderr",
          "text": [
            "Training:   8%|▊         | 101755/1314326 [00:07<01:23, 14572.96pair/s]"
          ]
        },
        {
          "output_type": "stream",
          "name": "stdout",
          "text": [
            "Pair 100000/1314326 — Avg Loss: 0.8395\n"
          ]
        },
        {
          "output_type": "stream",
          "name": "stderr",
          "text": [
            "Training:  15%|█▌        | 201641/1314326 [00:14<01:22, 13430.28pair/s]"
          ]
        },
        {
          "output_type": "stream",
          "name": "stdout",
          "text": [
            "Pair 200000/1314326 — Avg Loss: 0.8407\n"
          ]
        },
        {
          "output_type": "stream",
          "name": "stderr",
          "text": [
            "Training:  23%|██▎       | 302586/1314326 [00:21<01:04, 15652.62pair/s]"
          ]
        },
        {
          "output_type": "stream",
          "name": "stdout",
          "text": [
            "Pair 300000/1314326 — Avg Loss: 0.8432\n"
          ]
        },
        {
          "output_type": "stream",
          "name": "stderr",
          "text": [
            "Training:  31%|███       | 401372/1314326 [00:28<01:21, 11142.91pair/s]"
          ]
        },
        {
          "output_type": "stream",
          "name": "stdout",
          "text": [
            "Pair 400000/1314326 — Avg Loss: 0.8421\n"
          ]
        },
        {
          "output_type": "stream",
          "name": "stderr",
          "text": [
            "Training:  38%|███▊      | 502387/1314326 [00:35<00:51, 15847.30pair/s]"
          ]
        },
        {
          "output_type": "stream",
          "name": "stdout",
          "text": [
            "Pair 500000/1314326 — Avg Loss: 0.8416\n"
          ]
        },
        {
          "output_type": "stream",
          "name": "stderr",
          "text": [
            "Training:  46%|████▌     | 601951/1314326 [00:42<01:07, 10619.20pair/s]"
          ]
        },
        {
          "output_type": "stream",
          "name": "stdout",
          "text": [
            "Pair 600000/1314326 — Avg Loss: 0.8416\n"
          ]
        },
        {
          "output_type": "stream",
          "name": "stderr",
          "text": [
            "Training:  53%|█████▎    | 702622/1314326 [00:48<00:38, 15950.96pair/s]"
          ]
        },
        {
          "output_type": "stream",
          "name": "stdout",
          "text": [
            "Pair 700000/1314326 — Avg Loss: 0.8400\n"
          ]
        },
        {
          "output_type": "stream",
          "name": "stderr",
          "text": [
            "Training:  61%|██████    | 802501/1314326 [00:56<00:37, 13796.97pair/s]"
          ]
        },
        {
          "output_type": "stream",
          "name": "stdout",
          "text": [
            "Pair 800000/1314326 — Avg Loss: 0.8390\n"
          ]
        },
        {
          "output_type": "stream",
          "name": "stderr",
          "text": [
            "Training:  69%|██████▊   | 902399/1314326 [01:02<00:25, 16052.91pair/s]"
          ]
        },
        {
          "output_type": "stream",
          "name": "stdout",
          "text": [
            "Pair 900000/1314326 — Avg Loss: 0.8378\n"
          ]
        },
        {
          "output_type": "stream",
          "name": "stderr",
          "text": [
            "Training:  76%|███████▌  | 1001711/1314326 [01:10<00:18, 16653.84pair/s]"
          ]
        },
        {
          "output_type": "stream",
          "name": "stdout",
          "text": [
            "Pair 1000000/1314326 — Avg Loss: 0.8366\n"
          ]
        },
        {
          "output_type": "stream",
          "name": "stderr",
          "text": [
            "Training:  84%|████████▍ | 1101288/1314326 [01:16<00:13, 15529.94pair/s]"
          ]
        },
        {
          "output_type": "stream",
          "name": "stdout",
          "text": [
            "Pair 1100000/1314326 — Avg Loss: 0.8358\n"
          ]
        },
        {
          "output_type": "stream",
          "name": "stderr",
          "text": [
            "Training:  91%|█████████▏| 1202333/1314326 [01:24<00:07, 15198.08pair/s]"
          ]
        },
        {
          "output_type": "stream",
          "name": "stdout",
          "text": [
            "Pair 1200000/1314326 — Avg Loss: 0.8353\n"
          ]
        },
        {
          "output_type": "stream",
          "name": "stderr",
          "text": [
            "Training:  99%|█████████▉| 1302755/1314326 [01:30<00:00, 16224.29pair/s]"
          ]
        },
        {
          "output_type": "stream",
          "name": "stdout",
          "text": [
            "Pair 1300000/1314326 — Avg Loss: 0.8344\n"
          ]
        },
        {
          "output_type": "stream",
          "name": "stderr",
          "text": [
            "Training: 100%|██████████| 1314326/1314326 [01:31<00:00, 14425.88pair/s]\n"
          ]
        },
        {
          "output_type": "stream",
          "name": "stdout",
          "text": [
            "✅ Epoch 10 complete. Total Loss: 1096480.55\n"
          ]
        }
      ]
    },
    {
      "cell_type": "code",
      "source": [
        "\n",
        "np.save(\"embeddings.npy\", W1)\n",
        "print(\"✅ Embeddings saved to embeddings.npy\")\n",
        "\n",
        "from google.colab import files\n",
        "files.download(\"embeddings.npy\")\n"
      ],
      "metadata": {
        "colab": {
          "base_uri": "https://localhost:8080/",
          "height": 34
        },
        "id": "iqVB1RLS-EzT",
        "outputId": "1a990b7d-30dc-4e0d-dc7d-5d0721f3f2eb"
      },
      "execution_count": null,
      "outputs": [
        {
          "output_type": "stream",
          "name": "stdout",
          "text": [
            "✅ Embeddings saved to embeddings.npy\n"
          ]
        },
        {
          "output_type": "display_data",
          "data": {
            "text/plain": [
              "<IPython.core.display.Javascript object>"
            ],
            "application/javascript": [
              "\n",
              "    async function download(id, filename, size) {\n",
              "      if (!google.colab.kernel.accessAllowed) {\n",
              "        return;\n",
              "      }\n",
              "      const div = document.createElement('div');\n",
              "      const label = document.createElement('label');\n",
              "      label.textContent = `Downloading \"${filename}\": `;\n",
              "      div.appendChild(label);\n",
              "      const progress = document.createElement('progress');\n",
              "      progress.max = size;\n",
              "      div.appendChild(progress);\n",
              "      document.body.appendChild(div);\n",
              "\n",
              "      const buffers = [];\n",
              "      let downloaded = 0;\n",
              "\n",
              "      const channel = await google.colab.kernel.comms.open(id);\n",
              "      // Send a message to notify the kernel that we're ready.\n",
              "      channel.send({})\n",
              "\n",
              "      for await (const message of channel.messages) {\n",
              "        // Send a message to notify the kernel that we're ready.\n",
              "        channel.send({})\n",
              "        if (message.buffers) {\n",
              "          for (const buffer of message.buffers) {\n",
              "            buffers.push(buffer);\n",
              "            downloaded += buffer.byteLength;\n",
              "            progress.value = downloaded;\n",
              "          }\n",
              "        }\n",
              "      }\n",
              "      const blob = new Blob(buffers, {type: 'application/binary'});\n",
              "      const a = document.createElement('a');\n",
              "      a.href = window.URL.createObjectURL(blob);\n",
              "      a.download = filename;\n",
              "      div.appendChild(a);\n",
              "      a.click();\n",
              "      div.remove();\n",
              "    }\n",
              "  "
            ]
          },
          "metadata": {}
        },
        {
          "output_type": "display_data",
          "data": {
            "text/plain": [
              "<IPython.core.display.Javascript object>"
            ],
            "application/javascript": [
              "download(\"download_d9f74850-50c5-4059-a1df-fe6c8ec8903e\", \"embeddings.npy\", 41753728)"
            ]
          },
          "metadata": {}
        }
      ]
    },
    {
      "source": [
        "import numpy as np\n",
        "embeddings = np.load(\"embeddings.npy\")"
      ],
      "cell_type": "code",
      "metadata": {
        "id": "TjbPaHUbFpF4"
      },
      "execution_count": null,
      "outputs": []
    },
    {
      "source": [
        "print(\"Shape of embeddings:\", embeddings.shape)"
      ],
      "cell_type": "code",
      "metadata": {
        "colab": {
          "base_uri": "https://localhost:8080/"
        },
        "id": "YR8KfTC3Fe9D",
        "outputId": "200f5e78-7a68-41cc-c384-f5062528235a"
      },
      "execution_count": null,
      "outputs": [
        {
          "output_type": "stream",
          "name": "stdout",
          "text": [
            "Shape of embeddings: (52192, 100)\n"
          ]
        }
      ]
    },
    {
      "source": [
        "print(\"\\nFirst row of embeddings:\", embeddings[0])"
      ],
      "cell_type": "code",
      "metadata": {
        "colab": {
          "base_uri": "https://localhost:8080/"
        },
        "id": "RKus_ctJFfWV",
        "outputId": "2e9a42fc-e5d0-4869-97cc-a2c2c09a02ba"
      },
      "execution_count": null,
      "outputs": [
        {
          "output_type": "stream",
          "name": "stdout",
          "text": [
            "\n",
            "First row of embeddings: [ 0.01804558  0.20097414  0.04445281  0.04280125 -0.06043518 -0.07726021\n",
            "  0.22436474 -0.11053206  0.08258887  0.00703982 -0.13858681 -0.21069416\n",
            "  0.02999031 -0.01360768 -0.19378256  0.02769704  0.14498973  0.09382641\n",
            " -0.01797931  0.24050915  0.01582521  0.10809689 -0.21972244  0.27056629\n",
            "  0.06599673 -0.04210092 -0.29806174  0.16285899  0.2572556  -0.2986685\n",
            "  0.04380296 -0.09179995 -0.11963508 -0.04257883  0.06745546  0.13880553\n",
            " -0.13530226 -0.00123953 -0.01586354 -0.16510882  0.0546694  -0.06764663\n",
            "  0.02564681  0.10867562  0.03139395  0.01046717  0.02368016  0.05200477\n",
            " -0.13576592  0.01369606  0.17395707 -0.12280355  0.13158432 -0.018689\n",
            " -0.14860027 -0.19395836  0.01300044 -0.09425833 -0.13857473 -0.09091381\n",
            " -0.01209207 -0.03246356  0.1159127   0.18520133 -0.12541694 -0.08226508\n",
            " -0.11430298 -0.142937    0.06775002  0.23687952  0.17120716  0.32039282\n",
            "  0.08877082 -0.17569515  0.07620437  0.23536509 -0.05222696 -0.18306479\n",
            " -0.05381058  0.15459679  0.05626561  0.11906926  0.22573086  0.17524036\n",
            " -0.06096613  0.09256509 -0.01125027 -0.00974136  0.01994011  0.17523951\n",
            "  0.1332632  -0.14077066  0.14530537 -0.19589397 -0.00640185 -0.01464716\n",
            "  0.20595976  0.03998223 -0.19575376 -0.15177448]\n"
          ]
        }
      ]
    },
    {
      "cell_type": "code",
      "source": [],
      "metadata": {
        "id": "Za742wkzFy7F"
      },
      "execution_count": null,
      "outputs": []
    }
  ]
}